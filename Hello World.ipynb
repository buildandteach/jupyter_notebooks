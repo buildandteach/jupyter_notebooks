{
 "cells": [
  {
   "cell_type": "markdown",
   "metadata": {},
   "source": [
    "# Hello World\n",
    "\n",
    "### Introduction\n",
    "It is traditional to start all Programming tutorials with the “Hello World” program. \n",
    "\n",
    "This section will cover the following items\n",
    "- Jupyter Notebook Markdown Cells\n",
    "- Jupyter Notebook Code Cells\n",
    "- Printing “Hello World”\n",
    "- Executing Code in the Jupyter Notebook\n",
    "- Single Line and Multiple Line Comments in Python"
   ]
  },
  {
   "cell_type": "code",
   "execution_count": 7,
   "metadata": {},
   "outputs": [
    {
     "name": "stdout",
     "output_type": "stream",
     "text": [
      "Hello World\n"
     ]
    }
   ],
   "source": [
    "print(\"Hello World\")\n",
    "#Shift + Enter to execute Code"
   ]
  },
  {
   "cell_type": "code",
   "execution_count": null,
   "metadata": {
    "collapsed": true
   },
   "outputs": [],
   "source": [
    "# Single line comments use # symbol\n",
    "'''\n",
    "Multi-line comments\n",
    "use 3 singles quotes at the begining and end of your comments\n",
    "'''"
   ]
  }
 ],
 "metadata": {
  "kernelspec": {
   "display_name": "Python 3",
   "language": "python",
   "name": "python3"
  },
  "language_info": {
   "codemirror_mode": {
    "name": "ipython",
    "version": 3
   },
   "file_extension": ".py",
   "mimetype": "text/x-python",
   "name": "python",
   "nbconvert_exporter": "python",
   "pygments_lexer": "ipython3",
   "version": "3.6.6"
  }
 },
 "nbformat": 4,
 "nbformat_minor": 2
}
