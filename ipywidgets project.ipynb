{
 "cells": [
  {
   "cell_type": "code",
   "execution_count": 2,
   "metadata": {},
   "outputs": [],
   "source": [
    "import ipywidgets as widgets"
   ]
  },
  {
   "cell_type": "code",
   "execution_count": 14,
   "metadata": {},
   "outputs": [
    {
     "data": {
      "application/vnd.jupyter.widget-view+json": {
       "model_id": "23373951653544b28320ab376d693f9f",
       "version_major": 2,
       "version_minor": 0
      },
      "text/plain": [
       "VBox(children=(HBox(children=(Text(value='', description='First Name:', placeholder='What is your First name?'…"
      ]
     },
     "metadata": {},
     "output_type": "display_data"
    },
    {
     "name": "stdout",
     "output_type": "stream",
     "text": [
      "Hello Palma,Henry. Your site www.buildandteach.com is very informative. Pickups are cool.\n"
     ]
    }
   ],
   "source": [
    "txtFirstName = widgets.Text(\n",
    "    value='',\n",
    "    placeholder='What is your First name?',\n",
    "    description='First Name:',\n",
    "    disabled=False\n",
    ")\n",
    "\n",
    "txtLastName = widgets.Text(\n",
    "    value='',\n",
    "    placeholder='What is your Last name?',\n",
    "    description='Last Name:',\n",
    "    disabled=False\n",
    ")\n",
    "\n",
    "txtWebSite = widgets.Text(\n",
    "    value='',\n",
    "    placeholder='Website URL',\n",
    "    description='Website URL:',\n",
    "    disabled=False\n",
    ")\n",
    "\n",
    "dropvals = widgets.Dropdown(\n",
    "    options=[('Pickup', 1), ('Sedan', 2), ('Mini-Van', 3),('Convertible', 4)],\n",
    "    value=1,\n",
    "    description='Type of Vehicle:',\n",
    ")\n",
    "\n",
    "mybtn = widgets.Button(\n",
    "    description='Say Hello',\n",
    "    disabled=False,\n",
    "    button_style='', # 'success', 'info', 'warning', 'danger' or ''\n",
    "    tooltip='Say Hi',\n",
    "    icon='check' # (FontAwesome names without the `fa-` prefix)\n",
    ")\n",
    "\n",
    "def sayhello(val1,val2,val3,val4):\n",
    "    print(\"Hello {},{}. Your site {} is very informative. {}s are cool.\".format(val1,\n",
    "                                                                               val2,\n",
    "                                                                               val3,\n",
    "                                                                              val4))\n",
    "\n",
    "@mybtn.on_click\n",
    "\n",
    "def sayhello_onclick(a):\n",
    "    sayhello(txtLastName.value,\n",
    "             txtFirstName.value,\n",
    "             txtWebSite.value,\n",
    "             dropvals.label)\n",
    "mybtn\n",
    "\n",
    "\n",
    "firstsection = widgets.HBox([txtFirstName,txtLastName])\n",
    "items = [firstsection,txtWebSite,dropvals,mybtn]\n",
    "widgets.VBox(items)"
   ]
  },
  {
   "cell_type": "code",
   "execution_count": null,
   "metadata": {},
   "outputs": [],
   "source": [
    "def processform():\n",
    "    "
   ]
  }
 ],
 "metadata": {
  "kernelspec": {
   "display_name": "Python 3",
   "language": "python",
   "name": "python3"
  },
  "language_info": {
   "codemirror_mode": {
    "name": "ipython",
    "version": 3
   },
   "file_extension": ".py",
   "mimetype": "text/x-python",
   "name": "python",
   "nbconvert_exporter": "python",
   "pygments_lexer": "ipython3",
   "version": "3.7.3"
  }
 },
 "nbformat": 4,
 "nbformat_minor": 2
}
